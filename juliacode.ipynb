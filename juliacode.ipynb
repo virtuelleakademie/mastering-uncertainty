{
  "cells": [
    {
      "cell_type": "markdown",
      "metadata": {},
      "source": [
        "## Parametric Plots\n",
        "\n",
        "Plot function pair (x(u), y(u)). \n",
        "See @fig-parametric for an example.\n",
        "\n",
        "\n",
        "\n",
        "```{julia}\n",
        "#| label: fig-parametric\n",
        "#| fig-cap: \"Parametric Plots\"\n",
        "\n",
        "using Plots\n",
        "\n",
        "plot(sin, \n",
        "     x->sin(2x), \n",
        "     0, \n",
        "     2π, \n",
        "     leg=false, \n",
        "     fill=(0,:lavender))\n",
        "```"
      ],
      "id": "be639b72"
    }
  ],
  "metadata": {
    "kernelspec": {
      "display_name": "Python 3",
      "language": "python",
      "name": "python3"
    }
  },
  "nbformat": 4,
  "nbformat_minor": 5
}